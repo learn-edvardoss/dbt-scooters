{
 "cells": [
  {
   "cell_type": "code",
   "execution_count": 1,
   "id": "137198c2",
   "metadata": {},
   "outputs": [],
   "source": [
    "import duckdb"
   ]
  },
  {
   "cell_type": "code",
   "execution_count": 2,
   "id": "29750c26",
   "metadata": {},
   "outputs": [],
   "source": [
    "pth = 'C:\\\\Users\\\\ananevga\\\\Desktop\\\\DBT_projects\\\\dbt_scooters\\\\dev.duckdb'"
   ]
  },
  {
   "cell_type": "code",
   "execution_count": 3,
   "id": "24f88043",
   "metadata": {},
   "outputs": [],
   "source": [
    "con = duckdb.connect(pth,read_only=False)"
   ]
  },
  {
   "cell_type": "code",
   "execution_count": 10,
   "id": "9d855241",
   "metadata": {},
   "outputs": [],
   "source": [
    "pth = 'C:\\\\Users\\\\ananevga\\\\Downloads\\\\'"
   ]
  },
  {
   "cell_type": "code",
   "execution_count": 5,
   "id": "3eced321",
   "metadata": {},
   "outputs": [],
   "source": [
    "fls = ['users','payments','events','trips']"
   ]
  },
  {
   "cell_type": "code",
   "execution_count": 27,
   "id": "2ca9f30c",
   "metadata": {},
   "outputs": [],
   "source": [
    "con.sql(\"create schema scooters_raw\")"
   ]
  },
  {
   "cell_type": "code",
   "execution_count": 28,
   "id": "2a9f3d68",
   "metadata": {},
   "outputs": [
    {
     "data": {
      "text/plain": [
       "[None, None, None, None]"
      ]
     },
     "execution_count": 28,
     "metadata": {},
     "output_type": "execute_result"
    }
   ],
   "source": [
    "[con.sql(\"create table scooters_raw.\"+fl+\" as from read_parquet('\"+pth+fl+\".parquet')\") for fl in fls]"
   ]
  },
  {
   "cell_type": "code",
   "execution_count": 29,
   "id": "7d8418d4",
   "metadata": {},
   "outputs": [
    {
     "data": {
      "text/plain": [
       "┌──────────┬──────────────┬──────────┬──────────────────────────────────────────────────────────────────────────────────────────────────────────────────────┬───────────────────────────────────────────────────────────────────────────────────────────────────────────────────────────────┬───────────┐\n",
       "│ database │    schema    │   name   │                                                     column_names                                                     │                                                         column_types                                                          │ temporary │\n",
       "│ varchar  │   varchar    │ varchar  │                                                      varchar[]                                                       │                                                           varchar[]                                                           │  boolean  │\n",
       "├──────────┼──────────────┼──────────┼──────────────────────────────────────────────────────────────────────────────────────────────────────────────────────┼───────────────────────────────────────────────────────────────────────────────────────────────────────────────────────────────┼───────────┤\n",
       "│ dev      │ scooters_raw │ events   │ [user_id, timestamp, type_id]                                                                                        │ [BIGINT, TIMESTAMP_NS, BIGINT]                                                                                                │ false     │\n",
       "│ dev      │ scooters_raw │ payments │ [id, trip_id, price, tariff, promo]                                                                                  │ [BIGINT, BIGINT, BIGINT, BIGINT, BOOLEAN]                                                                                     │ false     │\n",
       "│ dev      │ scooters_raw │ trips    │ [id, user_id, scooter_hw_id, started_at, finished_at, start_lat, start_lon, finish_lat, finish_lon, distance, price] │ [BIGINT, BIGINT, VARCHAR, TIMESTAMP WITH TIME ZONE, TIMESTAMP WITH TIME ZONE, DOUBLE, DOUBLE, DOUBLE, DOUBLE, DOUBLE, BIGINT] │ false     │\n",
       "│ dev      │ scooters_raw │ users    │ [id, first_name, last_name, phone, sex, birth_date]                                                                  │ [BIGINT, VARCHAR, VARCHAR, VARCHAR, VARCHAR, DATE]                                                                            │ false     │\n",
       "└──────────┴──────────────┴──────────┴──────────────────────────────────────────────────────────────────────────────────────────────────────────────────────┴───────────────────────────────────────────────────────────────────────────────────────────────────────────────────────────────┴───────────┘"
      ]
     },
     "execution_count": 29,
     "metadata": {},
     "output_type": "execute_result"
    }
   ],
   "source": [
    "con.sql(\"show all tables\")"
   ]
  },
  {
   "cell_type": "code",
   "execution_count": 30,
   "id": "061948c8",
   "metadata": {},
   "outputs": [],
   "source": [
    "con.close()"
   ]
  }
 ],
 "metadata": {
  "kernelspec": {
   "display_name": "Python 3",
   "language": "python",
   "name": "python3"
  },
  "language_info": {
   "codemirror_mode": {
    "name": "ipython",
    "version": 3
   },
   "file_extension": ".py",
   "mimetype": "text/x-python",
   "name": "python",
   "nbconvert_exporter": "python",
   "pygments_lexer": "ipython3",
   "version": "3.13.1"
  }
 },
 "nbformat": 4,
 "nbformat_minor": 5
}
